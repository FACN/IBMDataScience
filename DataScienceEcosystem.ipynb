{
  "metadata": {
    "kernelspec": {
      "name": "python",
      "display_name": "Python (Pyodide)",
      "language": "python"
    },
    "language_info": {
      "codemirror_mode": {
        "name": "python",
        "version": 3
      },
      "file_extension": ".py",
      "mimetype": "text/x-python",
      "name": "python",
      "nbconvert_exporter": "python",
      "pygments_lexer": "ipython3",
      "version": "3.8"
    }
  },
  "nbformat_minor": 4,
  "nbformat": 4,
  "cells": [
    {
      "cell_type": "markdown",
      "source": "# Data Science Tools and Ecosystem",
      "metadata": {}
    },
    {
      "cell_type": "markdown",
      "source": "This notebook provides a summary of the Data Science Tools and Ecosystem",
      "metadata": {}
    },
    {
      "cell_type": "markdown",
      "source": "Objectives: \n\n* Identify the most frequently used languages in Data Science\n* Explore common libraries used by Data Scientists\n* Create tables in Jupyter Notebooks\n* Perform simple arithmetic operations in Jupyter Notebook\n* Provide a coding example for converting minutes to hours",
      "metadata": {}
    },
    {
      "cell_type": "markdown",
      "source": "Some of the most frequently used programming languages in Data Science are:\n\n1. Python\n2. R\n3. SQL\n4. Scala\n5. Java\n6. C++\n7. Julia",
      "metadata": {}
    },
    {
      "cell_type": "markdown",
      "source": "The most commonly used libraries in Data Science are:\n\n1. Pandas\n2. NumPy\n3. Matplotlib\n4. Seaborn\n5. Scikit-learn\n",
      "metadata": {}
    },
    {
      "cell_type": "markdown",
      "source": "Creating Tables in Jupyter Notebooks\n\n| Data Science Tools              |\n|---------------------------------|\n| Jupyter Notebook                |\n| RStudio                         |\n| Google Colab                    |\n",
      "metadata": {}
    },
    {
      "cell_type": "markdown",
      "source": "### Below are a few examples of evaluating arithmetic expressions in Python.",
      "metadata": {}
    },
    {
      "cell_type": "code",
      "source": "# Using Python for Arithmetic Calculations\n# Simple arithmetic operations with integers: \n# multiplication and addition.\n\n# Calculate and assign the result to a variable \nsimple_arith = (3 * 4) + 5  \n\n# Output the value of the variable\nprint(simple_arith)         \n\n# Alternatively, evaluate the expression directly without variable assignment\n(3 * 4) + 5\n",
      "metadata": {
        "trusted": true
      },
      "outputs": [
        {
          "name": "stdout",
          "text": "17\n",
          "output_type": "stream"
        },
        {
          "execution_count": 13,
          "output_type": "execute_result",
          "data": {
            "text/plain": "17"
          },
          "metadata": {}
        }
      ],
      "execution_count": 13
    },
    {
      "cell_type": "code",
      "source": "# Converting Minutes to Hours\n\n# Define the number of minutes in an hour\nminutes_per_hour = 60 \n\n# Define the total number of minutes to convert\ntotal_minutes = 200 \n\n# Calculate the equivalent hours by dividing total minutes by minutes per hour\nhours = total_minutes / minutes_per_hour\n\n# Output the calculated hours\nprint(hours)\n\n# Alternatively, calculate hours directly without variable assignment\n\nhours = 200 / 60  # Direct calculation\n\n# Display the result of the direct calculation\nhours",
      "metadata": {
        "trusted": true
      },
      "outputs": [
        {
          "name": "stdout",
          "text": "3.3333333333333335\n",
          "output_type": "stream"
        },
        {
          "execution_count": 12,
          "output_type": "execute_result",
          "data": {
            "text/plain": "3.3333333333333335"
          },
          "metadata": {}
        }
      ],
      "execution_count": 12
    },
    {
      "cell_type": "markdown",
      "source": "## Author:\n## Franco Carreno",
      "metadata": {}
    }
  ]
}